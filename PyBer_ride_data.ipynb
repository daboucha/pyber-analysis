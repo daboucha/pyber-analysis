{
 "cells": [
  {
   "cell_type": "code",
   "execution_count": 8,
   "id": "24a0751e",
   "metadata": {},
   "outputs": [],
   "source": [
    "# Add Matplotlib inline magic command\n",
    "%matplotlib inline\n",
    "\n",
    "# Import dependencies\n",
    "import pandas as pd\n",
    "import matplotlib.pyplot as plt"
   ]
  },
  {
   "cell_type": "code",
   "execution_count": 9,
   "id": "490443e7",
   "metadata": {},
   "outputs": [],
   "source": [
    "# Import the data into Pandas DataFrame\n",
    "city_data_to_load = \"resources/city_data.csv\"\n",
    "ride_data_to_load = \"resources/ride_data.csv\"\n",
    "\n",
    "city_df = pd.read_csv(city_data_to_load)\n",
    "ride_df = pd.read_csv(ride_data_to_load)"
   ]
  },
  {
   "cell_type": "code",
   "execution_count": 30,
   "id": "1aeb3eac",
   "metadata": {},
   "outputs": [
    {
     "name": "stdout",
     "output_type": "stream",
     "text": [
      "city            120\n",
      "driver_count    120\n",
      "type            120\n",
      "dtype: int64\n",
      " \n",
      "city            object\n",
      "driver_count     int64\n",
      "type            object\n",
      "dtype: object\n"
     ]
    },
    {
     "data": {
      "text/plain": [
       "18"
      ]
     },
     "execution_count": 30,
     "metadata": {},
     "output_type": "execute_result"
    }
   ],
   "source": [
    "# Get the columns and the rows that are not null\n",
    "print(city_df.count())\n",
    "# Get the data types of each column\n",
    "print(\" \")\n",
    "print(city_df.dtypes)"
   ]
  },
  {
   "cell_type": "code",
   "execution_count": 31,
   "id": "cfb9bc98",
   "metadata": {},
   "outputs": [
    {
     "name": "stdout",
     "output_type": "stream",
     "text": [
      "city       2375\n",
      "date       2375\n",
      "fare       2375\n",
      "ride_id    2375\n",
      "dtype: int64\n",
      " \n",
      "city        object\n",
      "date        object\n",
      "fare       float64\n",
      "ride_id      int64\n",
      "dtype: object\n"
     ]
    }
   ],
   "source": [
    "# Get the columns and the rows that are not null\n",
    "print(ride_df.count())\n",
    "# Get the data types of each column\n",
    "print(\" \")\n",
    "print(ride_df.dtypes)"
   ]
  },
  {
   "cell_type": "code",
   "execution_count": 33,
   "id": "9203a913",
   "metadata": {},
   "outputs": [
    {
     "data": {
      "text/html": [
       "<div>\n",
       "<style scoped>\n",
       "    .dataframe tbody tr th:only-of-type {\n",
       "        vertical-align: middle;\n",
       "    }\n",
       "\n",
       "    .dataframe tbody tr th {\n",
       "        vertical-align: top;\n",
       "    }\n",
       "\n",
       "    .dataframe thead th {\n",
       "        text-align: right;\n",
       "    }\n",
       "</style>\n",
       "<table border=\"1\" class=\"dataframe\">\n",
       "  <thead>\n",
       "    <tr style=\"text-align: right;\">\n",
       "      <th></th>\n",
       "      <th>city</th>\n",
       "      <th>date</th>\n",
       "      <th>fare</th>\n",
       "      <th>ride_id</th>\n",
       "      <th>driver_count</th>\n",
       "      <th>type</th>\n",
       "    </tr>\n",
       "  </thead>\n",
       "  <tbody>\n",
       "    <tr>\n",
       "      <th>0</th>\n",
       "      <td>Lake Jonathanshire</td>\n",
       "      <td>2019-01-14 10:14:22</td>\n",
       "      <td>13.83</td>\n",
       "      <td>5739410935873</td>\n",
       "      <td>5</td>\n",
       "      <td>Urban</td>\n",
       "    </tr>\n",
       "    <tr>\n",
       "      <th>1</th>\n",
       "      <td>South Michelleport</td>\n",
       "      <td>2019-03-04 18:24:09</td>\n",
       "      <td>30.24</td>\n",
       "      <td>2343912425577</td>\n",
       "      <td>72</td>\n",
       "      <td>Urban</td>\n",
       "    </tr>\n",
       "    <tr>\n",
       "      <th>2</th>\n",
       "      <td>Port Samanthamouth</td>\n",
       "      <td>2019-02-24 04:29:00</td>\n",
       "      <td>33.44</td>\n",
       "      <td>2005065760003</td>\n",
       "      <td>57</td>\n",
       "      <td>Urban</td>\n",
       "    </tr>\n",
       "    <tr>\n",
       "      <th>3</th>\n",
       "      <td>Rodneyfort</td>\n",
       "      <td>2019-02-10 23:22:03</td>\n",
       "      <td>23.44</td>\n",
       "      <td>5149245426178</td>\n",
       "      <td>34</td>\n",
       "      <td>Urban</td>\n",
       "    </tr>\n",
       "    <tr>\n",
       "      <th>4</th>\n",
       "      <td>South Jack</td>\n",
       "      <td>2019-03-06 04:28:35</td>\n",
       "      <td>34.58</td>\n",
       "      <td>3908451377344</td>\n",
       "      <td>46</td>\n",
       "      <td>Urban</td>\n",
       "    </tr>\n",
       "  </tbody>\n",
       "</table>\n",
       "</div>"
      ],
      "text/plain": [
       "                 city                 date   fare        ride_id  \\\n",
       "0  Lake Jonathanshire  2019-01-14 10:14:22  13.83  5739410935873   \n",
       "1  South Michelleport  2019-03-04 18:24:09  30.24  2343912425577   \n",
       "2  Port Samanthamouth  2019-02-24 04:29:00  33.44  2005065760003   \n",
       "3          Rodneyfort  2019-02-10 23:22:03  23.44  5149245426178   \n",
       "4          South Jack  2019-03-06 04:28:35  34.58  3908451377344   \n",
       "\n",
       "   driver_count   type  \n",
       "0             5  Urban  \n",
       "1            72  Urban  \n",
       "2            57  Urban  \n",
       "3            34  Urban  \n",
       "4            46  Urban  "
      ]
     },
     "execution_count": 33,
     "metadata": {},
     "output_type": "execute_result"
    }
   ],
   "source": [
    "# Merge the data frames\n",
    "city_ride_df = pd.merge(ride_df, city_df, on=[\"city\", \"city\"], how=\"left\")\n",
    "\n",
    "# Display the DataFrame\n",
    "city_ride_df.head()"
   ]
  },
  {
   "cell_type": "code",
   "execution_count": 3,
   "id": "cbe09ace",
   "metadata": {},
   "outputs": [],
   "source": [
    "# Create a bubble chart for avg fares vs total rides\n",
    "\n",
    "# Format bubble size based on total drivers for each city type"
   ]
  },
  {
   "cell_type": "code",
   "execution_count": 4,
   "id": "5bd9c830",
   "metadata": {},
   "outputs": [],
   "source": [
    "# Determine mean, median and mode for:\n",
    "# The total number of ride for each city type\n",
    "    \n",
    "# The average fares for each city type\n",
    "    \n",
    "# The total number of drivers for each city type"
   ]
  },
  {
   "cell_type": "code",
   "execution_count": 5,
   "id": "5133712f",
   "metadata": {},
   "outputs": [],
   "source": [
    "# Create box-and-whisker plots to determine any outliers for:\n",
    "# The number of rides for each city type\n",
    "\n",
    "# The fares for each city type\n",
    "\n",
    "# The number of drivers for each city type"
   ]
  },
  {
   "cell_type": "code",
   "execution_count": 6,
   "id": "b5769bd4",
   "metadata": {},
   "outputs": [],
   "source": [
    "# Create a pie chart for the percent of total fares, rides, and drivers"
   ]
  },
  {
   "cell_type": "code",
   "execution_count": null,
   "id": "79e3c784",
   "metadata": {},
   "outputs": [],
   "source": []
  }
 ],
 "metadata": {
  "kernelspec": {
   "display_name": "PythonData",
   "language": "python",
   "name": "pythondata"
  },
  "language_info": {
   "codemirror_mode": {
    "name": "ipython",
    "version": 3
   },
   "file_extension": ".py",
   "mimetype": "text/x-python",
   "name": "python",
   "nbconvert_exporter": "python",
   "pygments_lexer": "ipython3",
   "version": "3.9.4"
  }
 },
 "nbformat": 4,
 "nbformat_minor": 5
}
